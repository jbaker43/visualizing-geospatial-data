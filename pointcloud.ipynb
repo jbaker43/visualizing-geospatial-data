{
 "cells": [
  {
   "cell_type": "code",
   "execution_count": 1,
   "id": "12cb7702-e591-49f6-8952-11b3154f9737",
   "metadata": {},
   "outputs": [
    {
     "name": "stdout",
     "output_type": "stream",
     "text": [
      "Jupyter environment detected. Enabling Open3D WebVisualizer.\n",
      "[Open3D INFO] WebRTC GUI backend enabled.\n",
      "[Open3D INFO] WebRTCWindowSystem: HTTP handshake server disabled.\n"
     ]
    }
   ],
   "source": [
    "import numpy as np\n",
    "import open3d"
   ]
  },
  {
   "cell_type": "code",
   "execution_count": 3,
   "id": "c4b9353a-8046-43f0-b1fa-146858e55f59",
   "metadata": {},
   "outputs": [],
   "source": [
    "# Read .ply file\n",
    "file = \"data/point_cloud.ply\"\n",
    "pointcloud = open3d.io.read_point_cloud(file) # Read the point cloud"
   ]
  },
  {
   "cell_type": "code",
   "execution_count": 4,
   "id": "9c21b174-1a94-4cfa-b7d1-720488325429",
   "metadata": {},
   "outputs": [],
   "source": [
    "point_cloud_in_numpy = np.asarray(pointcloud.points) "
   ]
  },
  {
   "cell_type": "code",
   "execution_count": 5,
   "id": "63611713-93b5-4b84-9c48-3e574d4eaf1e",
   "metadata": {},
   "outputs": [],
   "source": [
    "open3d.visualization.draw_geometries([pointcloud]) "
   ]
  },
  {
   "cell_type": "code",
   "execution_count": 6,
   "id": "d41abbf0-2305-45ed-ab0f-81ae988266ff",
   "metadata": {},
   "outputs": [
    {
     "data": {
      "text/plain": [
       "PointCloud with 506580 points."
      ]
     },
     "execution_count": 6,
     "metadata": {},
     "output_type": "execute_result"
    }
   ],
   "source": [
    "pointcloud"
   ]
  },
  {
   "cell_type": "code",
   "execution_count": null,
   "id": "2b45100e-17c0-4d31-ae69-132364e60a44",
   "metadata": {},
   "outputs": [],
   "source": []
  }
 ],
 "metadata": {
  "kernelspec": {
   "display_name": "Python 3",
   "language": "python",
   "name": "python3"
  },
  "language_info": {
   "codemirror_mode": {
    "name": "ipython",
    "version": 3
   },
   "file_extension": ".py",
   "mimetype": "text/x-python",
   "name": "python",
   "nbconvert_exporter": "python",
   "pygments_lexer": "ipython3",
   "version": "3.8.8"
  }
 },
 "nbformat": 4,
 "nbformat_minor": 5
}
